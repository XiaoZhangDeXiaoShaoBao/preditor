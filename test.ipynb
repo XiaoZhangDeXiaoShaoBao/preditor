{
 "cells": [
  {
   "cell_type": "code",
   "execution_count": 3,
   "metadata": {},
   "outputs": [
    {
     "data": {
      "image/png": "[encoded data removed]",
      "text/plain": [
       "<Figure size 432x288 with 1 Axes>"
      ]
     },
     "metadata": {
      "needs_background": "light"
     },
     "output_type": "display_data"
    }
   ],
   "source": [
    "import matplotlib.pyplot as plt\n",
    "\n",
    "x = [587507.657434495, 587507.10538014921, 587506.56003935123, 587506.00746868283]\n",
    "y = [4140637.1279831817, 4140635.2061283579, 4140633.2823710353, 4140631.3606774863]\n",
    "\n",
    "plt.plot(x, y, color=\"r\", linestyle=\"--\", marker=\"*\", linewidth=1.0)\n",
    "\n",
    "plt.show()\n"
   ]
  },
  {
   "cell_type": "markdown",
   "metadata": {},
   "source": [
    " position {\n",
    "      x: 587507.657434495\n",
    "      y: 4140637.1279831817\n",
    "    }\n",
    "    heading: -1.8651540853243604\n",
    "    width: 2.0833164936762283\n",
    "    relative_s: 0\n",
    "    relative_l: -2.6020493234306317\n",
    "    angle_diff: -0.16617151903207938\n",
    "  }\n",
    "  lane_point {\n",
    "    position {\n",
    "      x: 587507.10538014921\n",
    "      y: 4140635.2061283579\n",
    "    }\n",
    "    heading: -1.8333280335012196\n",
    "    width: 2.0848333837550204\n",
    "    relative_s: 2\n",
    "    relative_l: -2.6020493234306317\n",
    "    angle_diff: -0.19799757085521996\n",
    "  }\n",
    "  lane_point {\n",
    "    position {\n",
    "      x: 587506.56003935123\n",
    "      y: 4140633.2823710353\n",
    "    }\n",
    "    heading: -1.8693843028406574\n",
    "    width: 2.0741903780611883\n",
    "    relative_s: 4\n",
    "    relative_l: -2.6020493234306317\n",
    "    angle_diff: -0.16194130151578268\n",
    "  }\n",
    "  lane_point {\n",
    "    position {\n",
    "      x: 587506.00746868283\n",
    "      y: 4140631.3606774863\n",
    "    }\n",
    "    heading: -1.8303900868903269\n",
    "    width: 2.0545685861717038\n",
    "    relative_s: 6\n",
    "    relative_l: -2.6020493234306317\n",
    "    angle_diff: -0.20093551746611293\n",
    "  }"
   ]
  }
 ],
 "metadata": {
  "kernelspec": {
   "display_name": "Python 3",
   "language": "python",
   "name": "python3"
  },
  "language_info": {
   "codemirror_mode": {
    "name": "ipython",
    "version": 3
   },
   "file_extension": ".py",
   "mimetype": "text/x-python",
   "name": "python",
   "nbconvert_exporter": "python",
   "pygments_lexer": "ipython3",
   "version": "3.7.0"
  }
 },
 "nbformat": 4,
 "nbformat_minor": 2
}
